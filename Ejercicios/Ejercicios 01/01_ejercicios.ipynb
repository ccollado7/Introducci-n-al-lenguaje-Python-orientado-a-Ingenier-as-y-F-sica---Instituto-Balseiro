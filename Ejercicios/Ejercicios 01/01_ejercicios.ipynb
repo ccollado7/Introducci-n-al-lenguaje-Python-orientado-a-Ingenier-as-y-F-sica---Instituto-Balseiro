{
 "cells": [
  {
   "cell_type": "markdown",
   "metadata": {},
   "source": [
    "# Ejercicios 01\n"
   ]
  },
  {
   "cell_type": "markdown",
   "metadata": {},
   "source": [
    "## Ejercicio N°1\n",
    "\n",
    "Abra una terminal (consola) de Ipython y utilícela como una calculadora para realizar las siguientes acciones:\n",
    "\n",
    "**a) Suponiendo que, de las cuatro horas de clases, tomamos un descanso de 15 minutos y nos distraemos otros 13 minutos, calcular cuántos minutos efectivos de trabajo tendremos en las 16 clases.**"
   ]
  },
  {
   "cell_type": "code",
   "execution_count": 1,
   "metadata": {},
   "outputs": [],
   "source": [
    "cant_clases = 16 #Variable cantidad de clases\n",
    "horas_clase = 4 #Variable cantidad de horas por clase\n",
    "desca = 15/60 #Variable minutos de descanso por clase\n",
    "dist = 13/60 #Variable minutos de distraccion por clase"
   ]
  },
  {
   "cell_type": "code",
   "execution_count": 2,
   "metadata": {},
   "outputs": [],
   "source": [
    "min_efect = 16 * (horas_clase - desca - dist) #Calculo de minutos efectivos"
   ]
  },
  {
   "cell_type": "code",
   "execution_count": 3,
   "metadata": {},
   "outputs": [
    {
     "name": "stdout",
     "output_type": "stream",
     "text": [
      "56.53333333333333\n"
     ]
    }
   ],
   "source": [
    "print(min_efect) #Impresion de minutos efectivos"
   ]
  },
  {
   "cell_type": "code",
   "execution_count": 6,
   "metadata": {},
   "outputs": [
    {
     "name": "stdout",
     "output_type": "stream",
     "text": [
      "56\n"
     ]
    }
   ],
   "source": [
    "print(int(min_efect)) #Redondeo al entero de minutos efectivos"
   ]
  },
  {
   "cell_type": "code",
   "execution_count": 32,
   "metadata": {},
   "outputs": [
    {
     "name": "stdout",
     "output_type": "stream",
     "text": [
      "El valor de minutos efectivos disponibles es 56.5\n"
     ]
    }
   ],
   "source": [
    "#1 cifra significativa para el valor min_efect\n",
    "\n",
    "s1 = \"El valor de minutos efectivos disponibles es {0:.1f}\".format(min_efect)\n",
    "print(s1)"
   ]
  },
  {
   "cell_type": "markdown",
   "metadata": {},
   "source": [
    "**b) Para la cantidad de alumnos presentes en el aula: £cuántas horas-persona de trabajo hay involucradas?**"
   ]
  },
  {
   "cell_type": "code",
   "execution_count": 11,
   "metadata": {},
   "outputs": [],
   "source": [
    "cant_alumnos = 16 #Variable cantidad de alumnos"
   ]
  },
  {
   "cell_type": "code",
   "execution_count": 15,
   "metadata": {},
   "outputs": [],
   "source": [
    "hh = cant_alumnos * min_efect #Calculo cantidad de horas-hombre de trabajo"
   ]
  },
  {
   "cell_type": "code",
   "execution_count": 18,
   "metadata": {},
   "outputs": [
    {
     "name": "stdout",
     "output_type": "stream",
     "text": [
      "904.5333333333333\n"
     ]
    }
   ],
   "source": [
    "print(hh) #Impresion de cantidad horas-hombre"
   ]
  },
  {
   "cell_type": "code",
   "execution_count": 19,
   "metadata": {},
   "outputs": [
    {
     "name": "stdout",
     "output_type": "stream",
     "text": [
      "904\n"
     ]
    }
   ],
   "source": [
    "print(int(hh)) #Redondeo al entero de horas-hombre"
   ]
  },
  {
   "cell_type": "code",
   "execution_count": 35,
   "metadata": {},
   "outputs": [],
   "source": [
    "#1 cifra significativa para el valor hh\n",
    "\n",
    "s2 = \"El valor de horas-hombre disponibles es {0:.1f}\".format(hh)"
   ]
  },
  {
   "cell_type": "code",
   "execution_count": 34,
   "metadata": {},
   "outputs": [
    {
     "name": "stdout",
     "output_type": "stream",
     "text": [
      "El valor de horas-hombre disponibles es 904.5\n"
     ]
    }
   ],
   "source": [
    "print(s2)"
   ]
  },
  {
   "cell_type": "markdown",
   "metadata": {},
   "source": [
    "## Ejercicio N°2 \n",
    "\n",
    "Muestre en la consola de Ipython:\n",
    "\n",
    "**a) El nombre de su directorio actual**"
   ]
  },
  {
   "cell_type": "code",
   "execution_count": 11,
   "metadata": {},
   "outputs": [
    {
     "name": "stdout",
     "output_type": "stream",
     "text": [
      "C:\\Users\\User0044\n"
     ]
    }
   ],
   "source": [
    "%cd"
   ]
  },
  {
   "cell_type": "code",
   "execution_count": 12,
   "metadata": {},
   "outputs": [
    {
     "data": {
      "text/plain": [
       "'C:\\\\Users\\\\User0044'"
      ]
     },
     "execution_count": 12,
     "metadata": {},
     "output_type": "execute_result"
    }
   ],
   "source": [
    "%pwd"
   ]
  },
  {
   "cell_type": "markdown",
   "metadata": {},
   "source": [
    "** b) Los archivos en su directorio actual**"
   ]
  },
  {
   "cell_type": "code",
   "execution_count": 13,
   "metadata": {},
   "outputs": [
    {
     "name": "stdout",
     "output_type": "stream",
     "text": [
      " El volumen de la unidad C no tiene etiqueta.\n",
      " El n£mero de serie del volumen es: A6AB-42E9\n",
      "\n",
      " Directorio de C:\\Users\\User0044\n",
      "\n",
      "31/07/2019  13:12    <DIR>          .\n",
      "31/07/2019  13:12    <DIR>          ..\n",
      "30/08/2018  11:21    <DIR>          .anaconda\n",
      "15/07/2019  16:28    <DIR>          .conda\n",
      "15/07/2019  12:32                43 .condarc\n",
      "18/07/2018  09:40    <DIR>          .dotnet\n",
      "05/12/2018  15:28    <DIR>          .eclipse\n",
      "03/01/2019  12:38               187 .gitconfig\n",
      "07/12/2018  14:29    <DIR>          .idlerc\n",
      "11/07/2019  12:53    <DIR>          .ipynb_checkpoints\n",
      "30/08/2018  11:22    <DIR>          .ipython\n",
      "03/01/2019  12:13    <DIR>          .julia\n",
      "30/08/2018  15:07    <DIR>          .jupyter\n",
      "30/08/2018  15:10    <DIR>          .matplotlib\n",
      "25/06/2019  15:29    <DIR>          .p2\n",
      "20/03/2019  11:51            34.984 .pdfbox.cache\n",
      "13/04/2018  15:52    <DIR>          .spss\n",
      "30/08/2018  15:33    <DIR>          .spyder-py3\n",
      "25/10/2018  13:51    <DIR>          .tooling\n",
      "18/06/2019  14:12    <DIR>          1. Python Data Science Handbook - Jake VanderPlas (Trabajar)\n",
      "18/06/2019  11:49    <DIR>          2. Python for Data Analysis - Wes McKinney (Trabajar)\n",
      "15/07/2019  13:12    <DIR>          3. A whirlwind tour of python - Jake VanderPlas\n",
      "29/01/2019  14:47    <DIR>          3D Objects\n",
      "04/02/2019  13:10    <DIR>          4. Intro to Numerical Computing with NumPy -  SciPy 2018 - Alex Chabot-Leclerc\n",
      "12/07/2019  12:35    <DIR>          5. Python for Beginners - Giles McMullen\n",
      "07/02/2019  10:21    <DIR>          6. PyData - 2015\n",
      "11/02/2019  13:07    <DIR>          7. Scipy Lecture Notes\n",
      "18/06/2019  14:29    <DIR>          8. Pandas Cookbook (Trabajar)\n",
      "31/01/2019  12:49    <DIR>          Anaconda3\n",
      "12/04/2018  10:56    <DIR>          Application Data\n",
      "16/07/2019  13:41    <DIR>          Clima\n",
      "02/02/2018  14:08    <DIR>          Contacts\n",
      "30/07/2019  15:54    <DIR>          Dataton Banco Galicia\n",
      "25/06/2019  19:11    <DIR>          datos-de-miercoles-master\n",
      "31/07/2019  09:51    <DIR>          Desktop\n",
      "09/04/2019  10:31    <DIR>          Documents\n",
      "31/07/2019  12:20    <DIR>          Downloads\n",
      "09/08/2018  12:47    <DIR>          eclipse\n",
      "09/08/2018  12:49    <DIR>          eclipse-workspace\n",
      "02/02/2018  14:08    <DIR>          Favorites\n",
      "02/02/2018  12:29    <DIR>          Intel\n",
      "30/07/2019  12:21    <DIR>          Introduccion a Python - Instituto Balseiro\n",
      "12/07/2019  13:17    <DIR>          Introduction to Computation and Programming using Python - John Guttag\n",
      "02/02/2018  12:40    <DIR>          Links\n",
      "19/06/2019  15:40           541.858 metaDataNavent.ipynb\n",
      "02/02/2018  14:08    <DIR>          Music\n",
      "02/02/2018  12:40    <DIR>          OneDrive\n",
      "02/02/2018  14:10    <DIR>          Pictures\n",
      "12/07/2019  15:09    <DIR>          Practica IAE\n",
      "21/06/2019  12:41    <DIR>          Practica PIL\n",
      "26/06/2019  10:23    <DIR>          Practica PRI\n",
      "28/01/2019  15:58    <DIR>          Principles of Machine Learning Python\n",
      "02/02/2018  14:08    <DIR>          Saved Games\n",
      "02/02/2018  14:09    <DIR>          Searches\n",
      "30/08/2018  15:11               587 Untitled1.ipynb\n",
      "30/08/2018  15:31                72 Untitled2.ipynb\n",
      "18/06/2019  11:51               728 Untitled3.ipynb\n",
      "02/02/2018  14:08    <DIR>          Videos\n",
      "               7 archivos        578.459 bytes\n",
      "              51 dirs  738.869.243.904 bytes libres\n"
     ]
    }
   ],
   "source": [
    "%ls"
   ]
  },
  {
   "cell_type": "markdown",
   "metadata": {},
   "source": [
    "** c) Cree un subdirectorio llamado tmp**"
   ]
  },
  {
   "cell_type": "code",
   "execution_count": 14,
   "metadata": {},
   "outputs": [],
   "source": [
    "%mkdir tmp1"
   ]
  },
  {
   "cell_type": "markdown",
   "metadata": {},
   "source": [
    "** d) Si está usando linux, la fecha y hora**"
   ]
  },
  {
   "cell_type": "code",
   "execution_count": null,
   "metadata": {},
   "outputs": [],
   "source": [
    "!date #No es posible ya que estoy utilizando Windows"
   ]
  },
  {
   "cell_type": "markdown",
   "metadata": {},
   "source": [
    "** e) Borre el subdirectorio tmp**"
   ]
  },
  {
   "cell_type": "code",
   "execution_count": null,
   "metadata": {},
   "outputs": [],
   "source": [
    "import shutil\n",
    "shutil.rmtree(r\"C:\\Users\\User0044\\tmp\")"
   ]
  },
  {
   "cell_type": "markdown",
   "metadata": {},
   "source": [
    "## Ejercicio N°3 \n",
    "\n",
    "Abra un editor de textos y escriba las líneas necesarias para imprimir por pantalla las siguientes frases (una por línea). Guarde y ejecute su programa."
   ]
  },
  {
   "cell_type": "code",
   "execution_count": 19,
   "metadata": {},
   "outputs": [
    {
     "name": "stdout",
     "output_type": "stream",
     "text": [
      "Hola, por primera vez\n"
     ]
    }
   ],
   "source": [
    "%run uno"
   ]
  },
  {
   "cell_type": "code",
   "execution_count": 20,
   "metadata": {},
   "outputs": [
    {
     "name": "stdout",
     "output_type": "stream",
     "text": [
      "Hola, hoy es mi dia de escribir frases intrascendentes\n"
     ]
    }
   ],
   "source": [
    "%run dos"
   ]
  },
  {
   "cell_type": "code",
   "execution_count": 21,
   "metadata": {},
   "outputs": [
    {
     "name": "stdout",
     "output_type": "stream",
     "text": [
      "Hola, nuevamente, y espero que por ultima vez\n"
     ]
    }
   ],
   "source": [
    "%run tres"
   ]
  },
  {
   "cell_type": "code",
   "execution_count": 22,
   "metadata": {},
   "outputs": [
    {
     "name": "stdout",
     "output_type": "stream",
     "text": [
      "E = mc2\n"
     ]
    }
   ],
   "source": [
    "%run cuatro"
   ]
  },
  {
   "cell_type": "code",
   "execution_count": 23,
   "metadata": {},
   "outputs": [
    {
     "name": "stdout",
     "output_type": "stream",
     "text": [
      "Adios\n"
     ]
    }
   ],
   "source": [
    "%run cinco"
   ]
  },
  {
   "cell_type": "code",
   "execution_count": 27,
   "metadata": {},
   "outputs": [
    {
     "name": "stdout",
     "output_type": "stream",
     "text": [
      "Hola, por primera vez\n",
      "Hola, hoy es mi dia de escribir frases intrascendentes\n",
      "Hola, nuevamente, y espero que por ultima vez\n",
      "E = mc2\n",
      "Adios\n"
     ]
    }
   ],
   "source": [
    "%run uno '\\n'\n",
    "%run dos '\\n'\n",
    "%run tres '\\n'\n",
    "%run cuatro '\\n'\n",
    "%run cinco '\\n'"
   ]
  },
  {
   "cell_type": "code",
   "execution_count": 28,
   "metadata": {},
   "outputs": [
    {
     "name": "stdout",
     "output_type": "stream",
     "text": [
      "Hola, por primera vez\n",
      "Hola, hoy es mi dia de escribir frases intrascendentes\n",
      "Hola, nuevamente, y espero que por ultima vez\n",
      "E = mc2\n",
      "Adios\n"
     ]
    }
   ],
   "source": [
    "%run completo '\\n'"
   ]
  },
  {
   "cell_type": "markdown",
   "metadata": {},
   "source": [
    "## Ejercicio N°4 \n",
    "\n",
    "Para cubos de lados de longitud L= 1, 3, 5 y 8, calcule su superficie y su volumen."
   ]
  },
  {
   "cell_type": "code",
   "execution_count": 31,
   "metadata": {},
   "outputs": [],
   "source": [
    "#Defino variables en forma separada para cada uno de las longitudes\n",
    "\n",
    "l1 = 1\n",
    "l2 = 3\n",
    "l3 = 5\n",
    "l4 = 8\n",
    "\n",
    "# Defino en una variable la cantidad de caras del cubo\n",
    "\n",
    "n = 6"
   ]
  },
  {
   "cell_type": "code",
   "execution_count": 35,
   "metadata": {},
   "outputs": [
    {
     "name": "stdout",
     "output_type": "stream",
     "text": [
      "Para el cubo de longitud  1 su superficie es de 6\n",
      "Para el cubo de longitud  1 su volumen es de 1\n"
     ]
    }
   ],
   "source": [
    "s1 = l1 * l1 * n\n",
    "v1 = l1**3\n",
    "print(\"Para el cubo de longitud \", l1, \"su superficie es de\", s1)\n",
    "print(\"Para el cubo de longitud \", l1, \"su volumen es de\", v1)"
   ]
  },
  {
   "cell_type": "code",
   "execution_count": 36,
   "metadata": {},
   "outputs": [
    {
     "name": "stdout",
     "output_type": "stream",
     "text": [
      "Para el cubo de longitud  3 su superficie es de 54\n",
      "Para el cubo de longitud  3 su volumen es de 27\n"
     ]
    }
   ],
   "source": [
    "s2 = l2 * l2 * n\n",
    "v2 = l2**3\n",
    "print(\"Para el cubo de longitud \", l2, \"su superficie es de\", s2)\n",
    "print(\"Para el cubo de longitud \", l2, \"su volumen es de\", v2)"
   ]
  },
  {
   "cell_type": "code",
   "execution_count": 37,
   "metadata": {},
   "outputs": [
    {
     "name": "stdout",
     "output_type": "stream",
     "text": [
      "Para el cubo de longitud  5 su superficie es de 150\n",
      "Para el cubo de longitud  5 su volumen es de 125\n"
     ]
    }
   ],
   "source": [
    "s3 = l3 * l3 * n\n",
    "v3 = l3**3\n",
    "print(\"Para el cubo de longitud \", l3, \"su superficie es de\", s3)\n",
    "print(\"Para el cubo de longitud \", l3, \"su volumen es de\", v3)"
   ]
  },
  {
   "cell_type": "code",
   "execution_count": 38,
   "metadata": {},
   "outputs": [
    {
     "name": "stdout",
     "output_type": "stream",
     "text": [
      "Para el cubo de longitud  8 su superficie es de 384\n",
      "Para el cubo de longitud  8 su volumen es de 512\n"
     ]
    }
   ],
   "source": [
    "s4 = l4 * l4 * n\n",
    "v4 = l4**3\n",
    "print(\"Para el cubo de longitud \", l4, \"su superficie es de\", s4)\n",
    "print(\"Para el cubo de longitud \", l4, \"su volumen es de\", v4)"
   ]
  },
  {
   "cell_type": "markdown",
   "metadata": {},
   "source": [
    "## Ejercicio N°5\n",
    "\n",
    "Para cubos de lados de longitud L= 1, 3, 5 y 8, calcule su superficie y su volumen."
   ]
  },
  {
   "cell_type": "code",
   "execution_count": 1,
   "metadata": {},
   "outputs": [],
   "source": [
    "#Defino variables en forma separada para cada uno de los radios\n",
    "\n",
    "r1 = 1\n",
    "r2 = 3\n",
    "r3 = 5\n",
    "r4 = 8"
   ]
  },
  {
   "cell_type": "code",
   "execution_count": 8,
   "metadata": {},
   "outputs": [],
   "source": [
    "#Importo el paquete math y creo la variable pi con el valor correspondiente\n",
    "\n",
    "import math\n",
    "pi_num = math.pi"
   ]
  },
  {
   "cell_type": "code",
   "execution_count": 10,
   "metadata": {},
   "outputs": [
    {
     "name": "stdout",
     "output_type": "stream",
     "text": [
      "Para la esfera de radio  1 su superficie es de 12.566370614359172\n",
      "Para la esfera de radio  1 su volumen es de 4.1887902047863905\n"
     ]
    }
   ],
   "source": [
    "s1 = 4 * pi_num * (r1**2)\n",
    "v1 = (4/3) * pi_num * (r1**3)\n",
    "print(\"Para la esfera de radio \", r1, \"su superficie es de\", s1)\n",
    "print(\"Para la esfera de radio \", r1, \"su volumen es de\", v1)"
   ]
  },
  {
   "cell_type": "code",
   "execution_count": 12,
   "metadata": {},
   "outputs": [
    {
     "name": "stdout",
     "output_type": "stream",
     "text": [
      "Para la esfera de radio  3 su superficie es de 113.09733552923255\n",
      "Para la esfera de radio  3 su volumen es de 113.09733552923254\n"
     ]
    }
   ],
   "source": [
    "s2 = 4 * pi_num * (r2**2)\n",
    "v2= (4/3) * pi_num * (r2**3)\n",
    "print(\"Para la esfera de radio \", r2, \"su superficie es de\", s2)\n",
    "print(\"Para la esfera de radio \", r2, \"su volumen es de\", v2)"
   ]
  },
  {
   "cell_type": "code",
   "execution_count": 13,
   "metadata": {},
   "outputs": [
    {
     "name": "stdout",
     "output_type": "stream",
     "text": [
      "Para la esfera de radio  5 su superficie es de 314.1592653589793\n",
      "Para la esfera de radio  5 su volumen es de 523.5987755982989\n"
     ]
    }
   ],
   "source": [
    "s3 = 4 * pi_num * (r3**2)\n",
    "v3= (4/3) * pi_num * (r3**3)\n",
    "print(\"Para la esfera de radio \", r3, \"su superficie es de\", s3)\n",
    "print(\"Para la esfera de radio \", r3, \"su volumen es de\", v3)"
   ]
  },
  {
   "cell_type": "code",
   "execution_count": 14,
   "metadata": {},
   "outputs": [
    {
     "name": "stdout",
     "output_type": "stream",
     "text": [
      "Para la esfera de radio  8 su superficie es de 804.247719318987\n",
      "Para la esfera de radio  8 su volumen es de 2144.660584850632\n"
     ]
    }
   ],
   "source": [
    "s4 = 4 * pi_num * (r4**2)\n",
    "v4= (4/3) * pi_num * (r4**3)\n",
    "print(\"Para la esfera de radio \", r4, \"su superficie es de\", s4)\n",
    "print(\"Para la esfera de radio \", r4, \"su volumen es de\", v4)"
   ]
  },
  {
   "cell_type": "markdown",
   "metadata": {},
   "source": [
    "## Ejercicio N°6\n",
    "\n",
    "Fíjese si alguno de los valores de $x=2.05$, $x=2.11$, $x=2.21$ es un cero de la función $f(x)=x^{2} + x/4 - 1/2$."
   ]
  },
  {
   "cell_type": "markdown",
   "metadata": {},
   "source": [
    "La solucion a este problema se implementa por medio de una funcion para simplificar el codigo y reutilizarlo:"
   ]
  },
  {
   "cell_type": "code",
   "execution_count": 32,
   "metadata": {},
   "outputs": [],
   "source": [
    "#Defino los valores de la variable x que voy a verificar si son ceros de la funcion f(x)\n",
    "\n",
    "x1 = 2.05\n",
    "x2 = 2.11\n",
    "x3 = 2.21"
   ]
  },
  {
   "cell_type": "code",
   "execution_count": 33,
   "metadata": {},
   "outputs": [],
   "source": [
    "def raices(x):\n",
    "    f = ((x**2)+(x/4)-(1/2))\n",
    "    print(f)\n",
    "    if f == 0:\n",
    "        print(\"El valor ingresado\", x , \"corresponde a una raiz de la funcion f(x)\")\n",
    "    else:\n",
    "        print(\"El valor ingresado\", x , \" no corresponde a una raiz de la funcion f(x)\")"
   ]
  },
  {
   "cell_type": "code",
   "execution_count": 34,
   "metadata": {},
   "outputs": [
    {
     "name": "stdout",
     "output_type": "stream",
     "text": [
      "4.215\n",
      "El valor ingresado 2.05  no corresponde a una raiz de la funcion f(x)\n"
     ]
    }
   ],
   "source": [
    "#Verificacion de la 1° Raiz\n",
    "\n",
    "raices(x1)"
   ]
  },
  {
   "cell_type": "code",
   "execution_count": 35,
   "metadata": {},
   "outputs": [
    {
     "name": "stdout",
     "output_type": "stream",
     "text": [
      "4.4796\n",
      "El valor ingresado 2.11  no corresponde a una raiz de la funcion f(x)\n"
     ]
    }
   ],
   "source": [
    "#Verificacion de la 2° Raiz\n",
    "\n",
    "raices(x2)"
   ]
  },
  {
   "cell_type": "code",
   "execution_count": 36,
   "metadata": {},
   "outputs": [
    {
     "name": "stdout",
     "output_type": "stream",
     "text": [
      "4.9366\n",
      "El valor ingresado 2.21  no corresponde a una raiz de la funcion f(x)\n"
     ]
    }
   ],
   "source": [
    "#Verificacion de la 3° Raiz\n",
    "\n",
    "raices(x3)"
   ]
  },
  {
   "cell_type": "markdown",
   "metadata": {},
   "source": [
    "## Ejercicio N°7\n",
    "\n",
    "Para el número complejo $z= 1 + 0.5 i$\n",
    "\n",
    "**Calcular z2, z3, z4, z5.**"
   ]
  },
  {
   "cell_type": "code",
   "execution_count": 51,
   "metadata": {},
   "outputs": [],
   "source": [
    "#Defino el numero complejo sobre el cual voy a trabajar\n",
    "\n",
    "z_base = 1 + 0.5j"
   ]
  },
  {
   "cell_type": "code",
   "execution_count": 52,
   "metadata": {},
   "outputs": [
    {
     "name": "stdout",
     "output_type": "stream",
     "text": [
      "El valor de z2 es: (0.75+1j)\n"
     ]
    }
   ],
   "source": [
    "# Calculo de z_base^2\n",
    "\n",
    "z_cuadrado = z_base**2\n",
    "print(\"El valor de z2 es:\", z_cuadrado)"
   ]
  },
  {
   "cell_type": "code",
   "execution_count": 53,
   "metadata": {},
   "outputs": [
    {
     "name": "stdout",
     "output_type": "stream",
     "text": [
      "El valor de z3 es: (0.25+1.375j)\n"
     ]
    }
   ],
   "source": [
    "# Calculo de z_base^3\n",
    "\n",
    "z_cubo = z_base**3\n",
    "print(\"El valor de z3 es:\", z_cubo)"
   ]
  },
  {
   "cell_type": "code",
   "execution_count": 54,
   "metadata": {},
   "outputs": [
    {
     "name": "stdout",
     "output_type": "stream",
     "text": [
      "El valor de z4 es: (-0.4375+1.5j)\n"
     ]
    }
   ],
   "source": [
    "# Calculo de z_base^4\n",
    "\n",
    "z_cuatro = z_base**4\n",
    "print(\"El valor de z4 es:\", z_cuatro)"
   ]
  },
  {
   "cell_type": "code",
   "execution_count": 55,
   "metadata": {},
   "outputs": [
    {
     "name": "stdout",
     "output_type": "stream",
     "text": [
      "El valor de z5 es: (-1.1875+1.28125j)\n"
     ]
    }
   ],
   "source": [
    "# Calculo de z_base^5\n",
    "\n",
    "z_quinto = z_base**5\n",
    "print(\"El valor de z5 es:\", z_quinto)"
   ]
  },
  {
   "cell_type": "markdown",
   "metadata": {},
   "source": [
    "A continuacion se implementa una funcion para simplificar el codigo y reutilizarlo:"
   ]
  },
  {
   "cell_type": "code",
   "execution_count": 60,
   "metadata": {},
   "outputs": [],
   "source": [
    "def z_pot(pot):\n",
    "    z_calculado = z_base**pot\n",
    "    print(\"Para el numero complejo 1 + 0.5j la potencia\", pot, \"es igual a:\", z_calculado)"
   ]
  },
  {
   "cell_type": "code",
   "execution_count": 61,
   "metadata": {},
   "outputs": [
    {
     "name": "stdout",
     "output_type": "stream",
     "text": [
      "Para el numero complejo 1 + 0.5j la potencia 2 es igual a: (0.75+1j)\n"
     ]
    }
   ],
   "source": [
    "z_pot(2)"
   ]
  },
  {
   "cell_type": "code",
   "execution_count": 62,
   "metadata": {},
   "outputs": [
    {
     "name": "stdout",
     "output_type": "stream",
     "text": [
      "Para el numero complejo 1 + 0.5j la potencia 3 es igual a: (0.25+1.375j)\n"
     ]
    }
   ],
   "source": [
    "z_pot(3)"
   ]
  },
  {
   "cell_type": "code",
   "execution_count": 63,
   "metadata": {},
   "outputs": [
    {
     "name": "stdout",
     "output_type": "stream",
     "text": [
      "Para el numero complejo 1 + 0.5j la potencia 4 es igual a: (-0.4375+1.5j)\n"
     ]
    }
   ],
   "source": [
    "z_pot(4)"
   ]
  },
  {
   "cell_type": "code",
   "execution_count": 65,
   "metadata": {},
   "outputs": [
    {
     "name": "stdout",
     "output_type": "stream",
     "text": [
      "Para el numero complejo 1 + 0.5j la potencia 5 es igual a: (-1.1875+1.28125j)\n"
     ]
    }
   ],
   "source": [
    "z_pot(5)"
   ]
  },
  {
   "cell_type": "markdown",
   "metadata": {},
   "source": [
    "** Calcular los complejos conjugados de z, z2 y z3. **"
   ]
  },
  {
   "cell_type": "code",
   "execution_count": 66,
   "metadata": {},
   "outputs": [],
   "source": [
    "#Defino el numero complejo sobre el cual voy a trabajar\n",
    "\n",
    "z_base = 1 + 0.5j"
   ]
  },
  {
   "cell_type": "code",
   "execution_count": 69,
   "metadata": {},
   "outputs": [
    {
     "name": "stdout",
     "output_type": "stream",
     "text": [
      "El conjugado de z_base es: (1-0.5j)\n"
     ]
    }
   ],
   "source": [
    "# Calculo de z_base conjugado\n",
    "\n",
    "z_conjugado = z_base.conjugate()\n",
    "print(\"El conjugado de z_base es:\", z_conjugado)"
   ]
  },
  {
   "cell_type": "code",
   "execution_count": 71,
   "metadata": {},
   "outputs": [
    {
     "name": "stdout",
     "output_type": "stream",
     "text": [
      "El conjugado de z_base^2 es: (0.75-1j)\n"
     ]
    }
   ],
   "source": [
    "# Calculo de z_base^2 conjugado\n",
    "\n",
    "z2_conjugado = (z_base**2).conjugate()\n",
    "print(\"El conjugado de z_base^2 es:\", z2_conjugado)"
   ]
  },
  {
   "cell_type": "code",
   "execution_count": 72,
   "metadata": {},
   "outputs": [
    {
     "name": "stdout",
     "output_type": "stream",
     "text": [
      "El conjugado de z_base^3 es: (0.25-1.375j)\n"
     ]
    }
   ],
   "source": [
    "# Calculo de z_base^3 conjugado\n",
    "\n",
    "z3_conjugado = (z_base**3).conjugate()\n",
    "print(\"El conjugado de z_base^3 es:\", z3_conjugado)"
   ]
  },
  {
   "cell_type": "markdown",
   "metadata": {},
   "source": [
    "A continuacion se implementa una funcion para simplificar el codigo y reutilizarlo:"
   ]
  },
  {
   "cell_type": "code",
   "execution_count": 74,
   "metadata": {},
   "outputs": [],
   "source": [
    "def z_pot_conj(pot):\n",
    "    z_calculado = (z_base**pot).conjugate()\n",
    "    print(\"Para el numero complejo 1 + 0.5j el conjugado de potencia\", pot, \"es igual a:\", z_calculado)"
   ]
  },
  {
   "cell_type": "code",
   "execution_count": 75,
   "metadata": {},
   "outputs": [
    {
     "name": "stdout",
     "output_type": "stream",
     "text": [
      "Para el numero complejo 1 + 0.5j el conjugado de potencia 1 es igual a: (1-0.5j)\n"
     ]
    }
   ],
   "source": [
    "z_pot_conj(1)"
   ]
  },
  {
   "cell_type": "code",
   "execution_count": 76,
   "metadata": {},
   "outputs": [
    {
     "name": "stdout",
     "output_type": "stream",
     "text": [
      "Para el numero complejo 1 + 0.5j el conjugado de potencia 2 es igual a: (0.75-1j)\n"
     ]
    }
   ],
   "source": [
    "z_pot_conj(2)"
   ]
  },
  {
   "cell_type": "code",
   "execution_count": 77,
   "metadata": {},
   "outputs": [
    {
     "name": "stdout",
     "output_type": "stream",
     "text": [
      "Para el numero complejo 1 + 0.5j el conjugado de potencia 3 es igual a: (0.25-1.375j)\n"
     ]
    }
   ],
   "source": [
    "z_pot_conj(3)"
   ]
  },
  {
   "cell_type": "markdown",
   "metadata": {},
   "source": [
    "**Escribir z, z2 y z3 en coordenadas polares.**"
   ]
  },
  {
   "cell_type": "code",
   "execution_count": 81,
   "metadata": {},
   "outputs": [],
   "source": [
    "#Importo el paquete cmath para calculo de numeros complejos\n",
    "\n",
    "import cmath"
   ]
  },
  {
   "cell_type": "code",
   "execution_count": 83,
   "metadata": {},
   "outputs": [
    {
     "name": "stdout",
     "output_type": "stream",
     "text": [
      "Para el numero complejo 1 + 0.5j las coordenadas polares son: (1.118033988749895, 0.4636476090008061)\n"
     ]
    }
   ],
   "source": [
    "#Coordenadas porlares de z_base\n",
    "\n",
    "z_base_polar = cmath.polar(z_base)\n",
    "print(\"Para el numero complejo 1 + 0.5j las coordenadas polares son:\", z_base_polar)"
   ]
  },
  {
   "cell_type": "code",
   "execution_count": 84,
   "metadata": {},
   "outputs": [
    {
     "name": "stdout",
     "output_type": "stream",
     "text": [
      "Para el numero complejo 1 + 0.5j las coordenadas polares son: (1.25, 0.9272952180016122)\n"
     ]
    }
   ],
   "source": [
    "z_base_polar = cmath.polar(z_base**2)\n",
    "print(\"Para el numero complejo 1 + 0.5j las coordenadas polares son:\", z_base_polar)"
   ]
  },
  {
   "cell_type": "code",
   "execution_count": 85,
   "metadata": {},
   "outputs": [
    {
     "name": "stdout",
     "output_type": "stream",
     "text": [
      "Para el numero complejo 1 + 0.5j las coordenadas polares son: (1.3975424859373686, 1.3909428270024184)\n"
     ]
    }
   ],
   "source": [
    "z_base_polar = cmath.polar(z_base**3)\n",
    "print(\"Para el numero complejo 1 + 0.5j las coordenadas polares son:\", z_base_polar)"
   ]
  },
  {
   "cell_type": "markdown",
   "metadata": {},
   "source": [
    "**Escribir un programa, utilizando formato de strings, que escriba las frases:**\n",
    "\n",
    "– “El conjugado de z=1+0.5j es 1-0.5j”\n",
    "\n",
    "– “El conjugado de z=(1+0.5j)ˆ2 es . . . ” (con el valor correspondiente)"
   ]
  },
  {
   "cell_type": "code",
   "execution_count": 91,
   "metadata": {},
   "outputs": [
    {
     "name": "stdout",
     "output_type": "stream",
     "text": [
      "El conjugado de z=1+0.5j es 1-0.5j\n"
     ]
    }
   ],
   "source": [
    "%run script_1"
   ]
  },
  {
   "cell_type": "code",
   "execution_count": 94,
   "metadata": {},
   "outputs": [
    {
     "name": "stdout",
     "output_type": "stream",
     "text": [
      "El conjugado de z = (1+0.5j)**2 es: (0.75+1j)\n"
     ]
    }
   ],
   "source": [
    "%run script_2"
   ]
  }
 ],
 "metadata": {
  "kernelspec": {
   "display_name": "Python 3",
   "language": "python",
   "name": "python3"
  },
  "language_info": {
   "codemirror_mode": {
    "name": "ipython",
    "version": 3
   },
   "file_extension": ".py",
   "mimetype": "text/x-python",
   "name": "python",
   "nbconvert_exporter": "python",
   "pygments_lexer": "ipython3",
   "version": "3.6.5"
  }
 },
 "nbformat": 4,
 "nbformat_minor": 2
}
